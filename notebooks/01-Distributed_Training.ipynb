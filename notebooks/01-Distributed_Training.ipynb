{
 "cells": [
  {
   "cell_type": "markdown",
   "id": "612b6a05",
   "metadata": {},
   "source": [
    "# Distributed Training of an XGBoost Model on Anyscale\n",
    "\n",
    "\n",
    "<div align=\"left\">\n",
    "<a target=\"_blank\" href=\"https://console.anyscale.com/\"><img src=\"https://img.shields.io/badge/🚀 Run_on-Anyscale-9hf\"></a>&nbsp;\n",
    "<a href=\"https://github.com/anyscale/FIXME-e2e-xgboost\" role=\"button\"><img src=\"https://img.shields.io/static/v1?label=&amp;message=View%20On%20GitHub&amp;color=586069&amp;logo=github&amp;labelColor=2f363d\"></a>&nbsp;\n",
    "</div>\n",
    "\n",
    "In this tutorial, we'll execute a distributed training workload that will connect the following heterogenous workloads:\n",
    "- preprocess the dataset prior to training with Ray Data\n",
    "- distributed training with Ray Train\n",
    "- save model artifacts to a model registry (MLFlow)\n",
    "\n",
    "**Note**: we won't be tuning our model in this tutorial but be sure to check out [Ray Tune](https://docs.ray.io/en/latest/tune/index.html) for experiment execution and hyperparameter tuning at any scale.\n",
    "\n",
    "<img src=\"https://raw.githubusercontent.com/anyscale/FIXME-e2e-xgboost/refs/heads/main/images/distributed_training.png\" width=800>\n",
    "\n",
    "\n",
    "To run this tutorial, we need to install the dependencies:"
   ]
  },
  {
   "cell_type": "code",
   "execution_count": null,
   "id": "6f5493d9",
   "metadata": {},
   "outputs": [],
   "source": [
    "%load_ext autoreload\n",
    "%autoreload all"
   ]
  },
  {
   "cell_type": "code",
   "execution_count": null,
   "id": "6b209489",
   "metadata": {},
   "outputs": [],
   "source": [
    "# Ensure the requirements are installed\n",
    "! pip install -qU -r ../requirements.txt"
   ]
  },
  {
   "cell_type": "code",
   "execution_count": null,
   "id": "0cba9f2d",
   "metadata": {},
   "outputs": [],
   "source": [
    "# enable importing from dist_xgboost module\n",
    "import os\n",
    "import sys\n",
    "\n",
    "sys.path.append(os.path.abspath(\"..\"))"
   ]
  },
  {
   "cell_type": "code",
   "execution_count": null,
   "id": "23ddcfbc",
   "metadata": {},
   "outputs": [],
   "source": [
    "# Enable Ray Train v2. This will be the default in an upcoming release.\n",
    "os.environ[\"RAY_TRAIN_V2_ENABLED\"] = \"1\"\n",
    "# now it's safe to import from ray.train"
   ]
  },
  {
   "cell_type": "code",
   "execution_count": null,
   "id": "15cfb416",
   "metadata": {},
   "outputs": [],
   "source": [
    "import ray\n",
    "\n",
    "from dist_xgboost.constants import preprocessor_path, local_storage_path"
   ]
  },
  {
   "cell_type": "code",
   "execution_count": null,
   "id": "05f79e20",
   "metadata": {},
   "outputs": [],
   "source": [
    "# make ray data less verbose\n",
    "ray.data.DataContext.get_current().enable_progress_bars = False\n",
    "ray.data.DataContext.get_current().print_on_execution_start = False"
   ]
  },
  {
   "cell_type": "markdown",
   "id": "1ad88db8",
   "metadata": {},
   "source": [
    "Next we define a function to load our train, validation, and test datasets. For this example, we are using the [\"Breast Cancer Wisconsin (Diagnostic)\"](https://archive.ics.uci.edu/dataset/17/breast+cancer+wisconsin+diagnostic) dataset.\n",
    "\n",
    "We do this by first splitting a random 70% for the train subset, then dividing the remaining samples in half between the test set and validation set."
   ]
  },
  {
   "cell_type": "code",
   "execution_count": null,
   "id": "1036655e",
   "metadata": {},
   "outputs": [],
   "source": [
    "from ray.data import Dataset\n",
    "\n",
    "\n",
    "def prepare_data() -> tuple[Dataset, Dataset, Dataset]:\n",
    "    \"\"\"Load and split the dataset into train, validation, and test sets.\"\"\"\n",
    "    dataset = ray.data.read_csv(\"s3://anonymous@air-example-data/breast_cancer.csv\")\n",
    "    seed = 42\n",
    "    train_dataset, rest = dataset.train_test_split(\n",
    "        test_size=0.3, shuffle=True, seed=seed\n",
    "    )\n",
    "    # 15% for validation, 15% for testing\n",
    "    valid_dataset, test_dataset = rest.train_test_split(\n",
    "        test_size=0.5, shuffle=True, seed=seed\n",
    "    )\n",
    "    return train_dataset, valid_dataset, test_dataset"
   ]
  },
  {
   "cell_type": "code",
   "execution_count": null,
   "id": "06b0f220",
   "metadata": {},
   "outputs": [
    {
     "name": "stderr",
     "output_type": "stream",
     "text": [
      "2025-04-09 13:06:27,251\tINFO worker.py:1709 -- Started a local Ray instance. View the dashboard at \u001b[1m\u001b[32mhttp://127.0.0.1:8265 \u001b[39m\u001b[22m\n",
      "2025-04-09 13:06:29,919\tWARNING plan.py:426 -- Warning: The Ray cluster currently does not have any available CPUs. The Dataset job will hang unless more CPUs are freed up. A common reason is that cluster resources are used by Actors or Tune trials; see the following link for more details: https://docs.ray.io/en/latest/data/data-internals.html#ray-data-and-tune\n",
      "2025-04-09 13:06:29,953\tINFO dataset.py:2679 -- Tip: Use `take_batch()` instead of `take() / show()` to return records in pandas or numpy batch format.\n"
     ]
    },
    {
     "data": {
      "text/plain": [
       "[{'mean radius': 12.34,\n",
       "  'mean texture': 26.86,\n",
       "  'mean perimeter': 81.15,\n",
       "  'mean area': 477.4,\n",
       "  'mean smoothness': 0.1034,\n",
       "  'mean compactness': 0.1353,\n",
       "  'mean concavity': 0.1085,\n",
       "  'mean concave points': 0.04562,\n",
       "  'mean symmetry': 0.1943,\n",
       "  'mean fractal dimension': 0.06937,\n",
       "  'radius error': 0.4053,\n",
       "  'texture error': 1.809,\n",
       "  'perimeter error': 2.642,\n",
       "  'area error': 34.44,\n",
       "  'smoothness error': 0.009098,\n",
       "  'compactness error': 0.03845,\n",
       "  'concavity error': 0.03763,\n",
       "  'concave points error': 0.01321,\n",
       "  'symmetry error': 0.01878,\n",
       "  'fractal dimension error': 0.005672,\n",
       "  'worst radius': 15.65,\n",
       "  'worst texture': 39.34,\n",
       "  'worst perimeter': 101.7,\n",
       "  'worst area': 768.9,\n",
       "  'worst smoothness': 0.1785,\n",
       "  'worst compactness': 0.4706,\n",
       "  'worst concavity': 0.4425,\n",
       "  'worst concave points': 0.1459,\n",
       "  'worst symmetry': 0.3215,\n",
       "  'worst fractal dimension': 0.1205,\n",
       "  'target': 0}]"
      ]
     },
     "execution_count": null,
     "metadata": {},
     "output_type": "execute_result"
    }
   ],
   "source": [
    "# Load and split the dataset\n",
    "train_dataset, valid_dataset, _test_dataset = prepare_data()\n",
    "train_dataset.take(1)"
   ]
  },
  {
   "cell_type": "markdown",
   "id": "b65de1dd",
   "metadata": {},
   "source": [
    "We see from the output that we have a tabular dataset [characterizing cell nuclei in breast mass](https://minds.wisconsin.edu/bitstream/handle/1793/59692/TR1131.pdf), such as radius, concavity, symmetry, etc."
   ]
  },
  {
   "cell_type": "markdown",
   "id": "56e67eb1",
   "metadata": {},
   "source": [
    "## How to preprocess data for training?\n",
    "\n",
    "Notice that the features have different magnitudes and ranges. This is stricly a problem for tree-based methods, however in some cases it can [improve numerical stability](https://stats.stackexchange.com/a/485681/80433).\n",
    "\n",
    "Ray Data offers built-in preprocessors that simplify common feature preprocessing tasks especially for tabular data.\n",
    "These can be seamlessly integrated with Ray Datasets, allowing you to preprocess your data in a fault-tolerant and distributed way before training.\n",
    "\n",
    "In this example, we use Ray's built-in StandardScaler to zero-center and z-score normalize the columns of our dataset. We fit the preprocessor using the train subset, and save it so that we can pre-process data when we deploy our model to production."
   ]
  },
  {
   "cell_type": "code",
   "execution_count": null,
   "id": "a7256185",
   "metadata": {},
   "outputs": [
    {
     "data": {
      "text/plain": [
       "StandardScaler(columns=['mean radius', 'mean texture', 'mean perimeter', 'mean area', 'mean smoothness', 'mean compactness', 'mean concavity', 'mean concave points', 'mean symmetry', 'mean fractal dimension', 'radius error', 'texture error', 'perimeter error', 'area error', 'smoothness error', 'compactness error', 'concavity error', 'concave points error', 'symmetry error', 'fractal dimension error', 'worst radius', 'worst texture', 'worst perimeter', 'worst area', 'worst smoothness', 'worst compactness', 'worst concavity', 'worst concave points', 'worst symmetry', 'worst fractal dimension'], output_columns=['mean radius', 'mean texture', 'mean perimeter', 'mean area', 'mean smoothness', 'mean compactness', 'mean concavity', 'mean concave points', 'mean symmetry', 'mean fractal dimension', 'radius error', 'texture error', 'perimeter error', 'area error', 'smoothness error', 'compactness error', 'concavity error', 'concave points error', 'symmetry error', 'fractal dimension error', 'worst radius', 'worst texture', 'worst perimeter', 'worst area', 'worst smoothness', 'worst compactness', 'worst concavity', 'worst concave points', 'worst symmetry', 'worst fractal dimension'])"
      ]
     },
     "execution_count": null,
     "metadata": {},
     "output_type": "execute_result"
    }
   ],
   "source": [
    "from ray.data.preprocessors import StandardScaler\n",
    "\n",
    "# pick some dataset columns to scale\n",
    "columns_to_scale = [c for c in train_dataset.columns() if c != \"target\"]\n",
    "\n",
    "# Initialize the preprocessor\n",
    "preprocessor = StandardScaler(columns=columns_to_scale)\n",
    "# train the preprocessor on the training set\n",
    "preprocessor.fit(train_dataset)"
   ]
  },
  {
   "cell_type": "markdown",
   "id": "19daa596",
   "metadata": {},
   "source": [
    "Now that we've fit the preprocessor, let's save it to a file. Later, we will register this artifact in MLFlow so that we can reuse it in downstream pipelines."
   ]
  },
  {
   "cell_type": "code",
   "execution_count": null,
   "id": "2688e721",
   "metadata": {},
   "outputs": [],
   "source": [
    "import pickle\n",
    "\n",
    "with open(preprocessor_path, \"wb\") as f:\n",
    "    pickle.dump(preprocessor, f)"
   ]
  },
  {
   "cell_type": "markdown",
   "id": "c4ff2165",
   "metadata": {},
   "source": [
    "Now that we have our preprocessor fitted, we can use it to transform our data. Note that this `transform()` operation is lazy; it won't be applied to the data until it is required by the train workers."
   ]
  },
  {
   "cell_type": "code",
   "execution_count": null,
   "id": "230223b3",
   "metadata": {},
   "outputs": [
    {
     "data": {
      "text/plain": [
       "[{'mean radius': -0.4610573754669751,\n",
       "  'mean texture': 1.7394058791227955,\n",
       "  'mean perimeter': -0.39862813331364333,\n",
       "  'mean area': -0.47052050327520184,\n",
       "  'mean smoothness': 0.5179183907087175,\n",
       "  'mean compactness': 0.6014975325986358,\n",
       "  'mean concavity': 0.27948609338625774,\n",
       "  'mean concave points': -0.03856734724040332,\n",
       "  'mean symmetry': 0.4255295258582904,\n",
       "  'mean fractal dimension': 0.8283748107392186,\n",
       "  'radius error': 0.05808719659016524,\n",
       "  'texture error': 0.9719565999844514,\n",
       "  'perimeter error': -0.06488976051695712,\n",
       "  'area error': -0.08812979470864253,\n",
       "  'smoothness error': 0.5966610931705398,\n",
       "  'compactness error': 0.6557505012910677,\n",
       "  'concavity error': 0.16691166236728125,\n",
       "  'concave points error': 0.2262776558930776,\n",
       "  'symmetry error': -0.24961481030565633,\n",
       "  'fractal dimension error': 0.6058568301981654,\n",
       "  'worst radius': -0.0801267576213063,\n",
       "  'worst texture': 2.1678368209602334,\n",
       "  'worst perimeter': -0.11584002773284043,\n",
       "  'worst area': -0.15607557768468996,\n",
       "  'worst smoothness': 2.0396930394107513,\n",
       "  'worst compactness': 1.3302986786233904,\n",
       "  'worst concavity': 0.8000233388201367,\n",
       "  'worst concave points': 0.510878227153386,\n",
       "  'worst symmetry': 0.4224928013250782,\n",
       "  'worst fractal dimension': 1.9408678428935453,\n",
       "  'target': 0}]"
      ]
     },
     "execution_count": null,
     "metadata": {},
     "output_type": "execute_result"
    }
   ],
   "source": [
    "train_dataset = preprocessor.transform(train_dataset)\n",
    "valid_dataset = preprocessor.transform(valid_dataset)\n",
    "train_dataset.take(1)"
   ]
  },
  {
   "cell_type": "markdown",
   "id": "d2ab598f",
   "metadata": {},
   "source": [
    "Using `take()`, we can see that the values are now zero-centered and rescaled to be roughly between -1 and 1.\n",
    "\n",
    "Optionally, at this stage we could run the preprocessing step and save the intermediates using `ds.write_parquet(output_path)`. For the purposes of this example, we will just process the dataset in-memory in a streaming fashion."
   ]
  },
  {
   "cell_type": "markdown",
   "id": "128cb831",
   "metadata": {},
   "source": [
    "<div class=\"alert alert-block alert\"> <b> Data Processing</b> \n",
    "\n",
    "Be sure to checkout this extensive guide on [data loading and preprocessing](https://docs.ray.io/en/latest/train/user-guides/data-loading-preprocessing.html) for the last-mile preprocessing we'll need to do prior to training our models. However, Ray Data does support performant joins, filters, aggregations, etc. for the more structure data processing your workloads may need."
   ]
  },
  {
   "cell_type": "markdown",
   "id": "76b534fa",
   "metadata": {},
   "source": [
    "## Save and load XGBoost checkpoints\n",
    "\n",
    "Checkpointing is a powerful feature.\n",
    "It is particularly useful for long-running training sessions, as it enables you to resume training from the last checkpoint in case of interruptions.\n",
    "\n",
    "[`XGBoostTrainer`](https://docs.ray.io/en/latest/train/api/doc/ray.train.xgboost.XGBoostTrainer.html#ray.train.xgboost.XGBoostTrainer) implements checkpointing out of the box. These checkpoints can be loaded into memory\n",
    "using static methods [`XGBoostTrainer.get_model`](https://docs.ray.io/en/latest/train/api/doc/ray.train.xgboost.XGBoostTrainer.get_model.html#ray.train.xgboost.XGBoostTrainer.get_model).\n",
    "\n",
    "The only required change is to configure [`CheckpointConfig`](https://docs.ray.io/en/latest/train/api/doc/ray.train.CheckpointConfig.html#ray.train.CheckpointConfig) to set the checkpointing frequency. For example, the following configuration\n",
    "saves a checkpoint on every boosting round and only keeps the latest checkpoint."
   ]
  },
  {
   "cell_type": "code",
   "execution_count": null,
   "id": "9787bb14",
   "metadata": {},
   "outputs": [],
   "source": [
    "from ray.train import CheckpointConfig, RunConfig, ScalingConfig, Result\n",
    "\n",
    "\n",
    "# Configure checkpointing to save progress during training\n",
    "run_config = RunConfig(\n",
    "    checkpoint_config=CheckpointConfig(\n",
    "        # Checkpoint every 10 iterations.\n",
    "        checkpoint_frequency=10,\n",
    "        # Only keep the latest checkpoint.\n",
    "        num_to_keep=1,\n",
    "    ),\n",
    "    ## If running in a multi-node cluster, this is where you\n",
    "    ## should configure the run's persistent storage that is accessible\n",
    "    ## across all worker nodes with `storage_path=\"s3://...\"`\n",
    "    storage_path=local_storage_path,\n",
    ")"
   ]
  },
  {
   "cell_type": "markdown",
   "id": "feaee233",
   "metadata": {},
   "source": [
    ":::{tip} Once you enable checkpointing, you can follow [this guide](https://docs.ray.io/en/latest/train/user-guides/fault-tolerance.html#train-fault-tolerance) to enable fault tolerance. :::"
   ]
  },
  {
   "cell_type": "markdown",
   "id": "c9887b8e",
   "metadata": {},
   "source": [
    "## Basic training with tree-based models in Train\n",
    "\n",
    "Just as in the original [`xgboost.train()`](https://xgboost.readthedocs.io/en/stable/parameter.html) function, the training parameters are passed as the `params` dictionary.\n",
    "\n",
    "### XGBoost Example"
   ]
  },
  {
   "cell_type": "code",
   "execution_count": null,
   "id": "4a173cc0",
   "metadata": {},
   "outputs": [],
   "source": [
    "import xgboost\n",
    "\n",
    "from ray.train.xgboost import RayTrainReportCallback\n",
    "from ray.train.xgboost import XGBoostTrainer\n",
    "\n",
    "\n",
    "def train_fn_per_worker(config: dict):\n",
    "    # Get this worker's dataset shard convert\n",
    "    train_ds, val_ds = (\n",
    "        ray.train.get_dataset_shard(\"train\"),\n",
    "        ray.train.get_dataset_shard(\"validation\"),\n",
    "    )\n",
    "\n",
    "    train_ds = train_ds.materialize().to_pandas()\n",
    "    val_ds = val_ds.materialize().to_pandas()\n",
    "\n",
    "    # Separate the labels from the features\n",
    "    train_X, train_y = train_ds.drop(\"target\", axis=1), train_ds[\"target\"]\n",
    "    eval_X, eval_y = val_ds.drop(\"target\", axis=1), val_ds[\"target\"]\n",
    "\n",
    "    # Convert the data into a DMatrix\n",
    "    dtrain = xgboost.DMatrix(train_X, label=train_y)\n",
    "    deval = xgboost.DMatrix(eval_X, label=eval_y)\n",
    "\n",
    "    # Do distributed data-parallel training.\n",
    "    # Ray Train sets up the necessary coordinator processes and\n",
    "    # environment variables for your workers to communicate with each other.\n",
    "    # it also handles checkpointing via the `RayTrainReportCallback`\n",
    "    _booster = xgboost.train(\n",
    "        config[\"xgboost_params\"],\n",
    "        dtrain=dtrain,\n",
    "        evals=[(dtrain, \"train\"), (deval, \"validation\")],\n",
    "        num_boost_round=10,\n",
    "        callbacks=[RayTrainReportCallback()],\n",
    "    )\n",
    "\n",
    "\n",
    "# Params that will be passed to the base XGBoost model.\n",
    "model_config = {\n",
    "    \"xgboost_params\": {\n",
    "        \"objective\": \"binary:logistic\",\n",
    "        \"eval_metric\": [\"logloss\", \"error\"],\n",
    "    }\n",
    "}\n",
    "\n",
    "trainer = XGBoostTrainer(\n",
    "    train_fn_per_worker,\n",
    "    train_loop_config=model_config,\n",
    "    # Register the data subsets.\n",
    "    datasets={\"train\": train_dataset, \"validation\": valid_dataset},\n",
    "    # see \"How to scale out training?\" for more details\n",
    "    scaling_config=ScalingConfig(\n",
    "        # Number of workers to use for data parallelism.\n",
    "        num_workers=5,\n",
    "        # Whether to use GPU acceleration. Set to True to schedule GPU workers.\n",
    "        use_gpu=True,\n",
    "    ),\n",
    "    run_config=run_config,\n",
    ")"
   ]
  },
  {
   "cell_type": "markdown",
   "id": "a70c0a68",
   "metadata": {},
   "source": [
    "<div class=\"alert alert-block alert\"> <b> Minimal change to your training code</b> \n",
    "\n",
    "You'll notice that there isn't much new Ray Train code on top of our base XGboost code. We specified how we want to scale out our training workload, load the Ray datasets and then checkpoint on our main worker node... and that's it! \n",
    "\n",
    "Check out these guides this extensive list of [Ray Train user guides](https://docs.ray.io/en/latest/train/user-guides.html)."
   ]
  },
  {
   "cell_type": "markdown",
   "id": "c7385197",
   "metadata": {},
   "source": [
    "<div class=\"alert alert-block alert\"> <b> Ray Train</b> \n",
    "\n",
    "**🎛️ Multi-node orchestration made easy**\n",
    "\n",
    "- Ray Train automatically handles multi-node, multi-GPU setup with no manual SSH setup or hostfile configs. \n",
    "- And it also integrates with Ray's cluster launcher for cloud (AWS, GCP, K8s) and on-prem clusters. \n",
    "- Solutions like PyTorch DDP require manually setting up your own process group, ranks, networking, etc.\n",
    "\n",
    "**🩹 2. Built-in fault tolerance**\n",
    "- Ray Train supports automatic retry of failed workers.\n",
    "- and can continue training from the last checkpoint in case of failure.\n",
    "\n",
    "\n",
    "**✂️ 3. Flexible training strategies** (not just DDP)\n",
    "- Ray Train supports Data Parallel, Model Parallel, Parameter Server, and even custom strategies.\n",
    "- You can also use Torch DDP, FSPD, DeepSpeed, etc. under the hood if you want.\n",
    "- [Ray Compiled graphs](https://docs.ray.io/en/latest/ray-core/compiled-graph/ray-compiled-graph.html) allow us to even define different parallelism for jointly optimizing multipe models (Megatron, Deepspeed, etc. only allow for one global setting).\n",
    "\n",
    "**🔥 Better support for heterogeneous clusters**\n",
    "- Ray Train lets you define per-worker resource requirements (e.g., 2 CPUs and 1 GPU per worker).\n",
    "- and can run on heterogeneous machines and scale flexibly (e.g., CPU for preprocessing and GPU for training)\n",
    "\n",
    "**🌍 Integrations**\n",
    "\n",
    "<img src=\"https://raw.githubusercontent.com/anyscale/foundational-ray-app/refs/heads/main/images/train_integrations.png\" width=500>\n",
    "\n",
    "[RayTurbo Train](https://docs.anyscale.com/rayturbo/rayturbo-train) offers even more improvement to the price-performance ratio, performance monitoring and more:\n",
    "- **elastic training** to scale to a dynamic number of workers, continue training on fewer resources (even on spot instances).\n",
    "- **purpose-built dashboard** designed to streamline the debugging of Ray Train workloads\n",
    "    - Monitoring: View the status of training runs and train workers.\n",
    "    - Metrics: See insights on training throughput, training system operation time.\n",
    "    - Profiling: Investigate bottlenecks, hangs, or errors from individual training worker processes.\n",
    "\n",
    "<img src=\"https://raw.githubusercontent.com/anyscale/foundational-ray-app/refs/heads/main/images/train_dashboard.png\" width=700>"
   ]
  },
  {
   "cell_type": "markdown",
   "id": "30fe32cf",
   "metadata": {},
   "source": [
    "Finally, we can train our model:"
   ]
  },
  {
   "cell_type": "code",
   "execution_count": null,
   "id": "005f33bb",
   "metadata": {},
   "outputs": [
    {
     "name": "stderr",
     "output_type": "stream",
     "text": [
      "\u001b[36m(TrainController pid=23111)\u001b[0m Attempting to start training worker group of size 5 with the following resources: [{'CPU': 1}] * 5\n",
      "\u001b[36m(RayTrainWorker pid=23120)\u001b[0m [13:06:34] Task [xgboost.ray-rank=00000000]:4fbf780b23f77b5eb6cf459001000000 got rank 0\n",
      "\u001b[36m(TrainController pid=23111)\u001b[0m [13:06:35] [0]\ttrain-logloss:0.43595\ttrain-error:0.08101\tvalidation-logloss:0.41536\tvalidation-error:0.05882\n",
      "\u001b[36m(TrainController pid=23111)\u001b[0m [13:06:35] [1]\ttrain-logloss:0.31472\ttrain-error:0.03544\tvalidation-logloss:0.29687\tvalidation-error:0.00000\n",
      "\u001b[36m(TrainController pid=23111)\u001b[0m [13:06:36] [2]\ttrain-logloss:0.23822\ttrain-error:0.01519\tvalidation-logloss:0.22132\tvalidation-error:0.00000\n",
      "\u001b[36m(TrainController pid=23111)\u001b[0m [13:06:38] [3]\ttrain-logloss:0.18505\ttrain-error:0.01013\tvalidation-logloss:0.16996\tvalidation-error:0.00000\n",
      "\u001b[36m(TrainController pid=23111)\u001b[0m [13:06:40] [4]\ttrain-logloss:0.14801\ttrain-error:0.01013\tvalidation-logloss:0.13449\tvalidation-error:0.00000\n",
      "\u001b[36m(RayTrainWorker pid=23122)\u001b[0m [13:06:34] Task [xgboost.ray-rank=00000001]:5c50067f97af0e8eb279a67b01000000 got rank 1\u001b[32m [repeated 4x across cluster] (Ray deduplicates logs by default. Set RAY_DEDUP_LOGS=0 to disable log deduplication, or see https://docs.ray.io/en/master/ray-observability/user-guides/configure-logging.html#log-deduplication for more options.)\u001b[0m\n",
      "\u001b[36m(TrainController pid=23111)\u001b[0m [13:06:42] [5]\ttrain-logloss:0.11816\ttrain-error:0.01013\tvalidation-logloss:0.10170\tvalidation-error:0.00000\n",
      "\u001b[36m(TrainController pid=23111)\u001b[0m [13:06:44] [6]\ttrain-logloss:0.09647\ttrain-error:0.01013\tvalidation-logloss:0.08098\tvalidation-error:0.00000\n",
      "\u001b[36m(TrainController pid=23111)\u001b[0m [13:06:46] [7]\ttrain-logloss:0.07887\ttrain-error:0.01013\tvalidation-logloss:0.06436\tvalidation-error:0.00000\n",
      "\u001b[36m(TrainController pid=23111)\u001b[0m [13:06:48] [8]\ttrain-logloss:0.06615\ttrain-error:0.00759\tvalidation-logloss:0.05323\tvalidation-error:0.00000\n",
      "\u001b[36m(TrainController pid=23111)\u001b[0m [13:06:50] [9]\ttrain-logloss:0.05642\ttrain-error:0.00759\tvalidation-logloss:0.04468\tvalidation-error:0.00000\n",
      "\u001b[36m(RayTrainWorker pid=23120)\u001b[0m Checkpoint successfully created at: Checkpoint(filesystem=local, path=/tmp/ray_train_run-2025-04-09_13-06-30/checkpoint_2025-04-09_13-06-52.109977)\n"
     ]
    },
    {
     "data": {
      "text/plain": [
       "Result(metrics=OrderedDict({'train-logloss': np.float64(0.056424440236031256), 'train-error': np.float64(0.00759493670886076), 'validation-logloss': np.float64(0.04467833495753653), 'validation-error': np.float64(0.0)}), checkpoint=Checkpoint(filesystem=local, path=/tmp/ray_train_run-2025-04-09_13-06-30/checkpoint_2025-04-09_13-06-52.109977), error=None, path='/tmp/ray_train_run-2025-04-09_13-06-30', metrics_dataframe=   train-logloss  train-error  validation-logloss  validation-error\n",
       "0       0.056424     0.007595            0.044678               0.0, best_checkpoints=[(Checkpoint(filesystem=local, path=/tmp/ray_train_run-2025-04-09_13-06-30/checkpoint_2025-04-09_13-06-52.109977), OrderedDict({'train-logloss': np.float64(0.056424440236031256), 'train-error': np.float64(0.00759493670886076), 'validation-logloss': np.float64(0.04467833495753653), 'validation-error': np.float64(0.0)}))], _storage_filesystem=<pyarrow._fs.LocalFileSystem object at 0x39ab50f30>)"
      ]
     },
     "execution_count": null,
     "metadata": {},
     "output_type": "execute_result"
    }
   ],
   "source": [
    "result: Result = trainer.fit()\n",
    "result"
   ]
  },
  {
   "cell_type": "markdown",
   "id": "acf06ba2",
   "metadata": {},
   "source": [
    "Ray Train returns a [`ray.train.Result`](https://docs.ray.io/en/latest/train/api/doc/ray.train.Result.html) object, which contains a few useful properties such as 'metrics', 'checkpoint', 'error', 'path', 'metrics_dataframe', 'best_checkpoints':"
   ]
  },
  {
   "cell_type": "code",
   "execution_count": null,
   "id": "929c13bc",
   "metadata": {},
   "outputs": [
    {
     "data": {
      "text/plain": [
       "OrderedDict([('train-logloss', np.float64(0.056424440236031256)),\n",
       "             ('train-error', np.float64(0.00759493670886076)),\n",
       "             ('validation-logloss', np.float64(0.04467833495753653)),\n",
       "             ('validation-error', np.float64(0.0))])"
      ]
     },
     "execution_count": null,
     "metadata": {},
     "output_type": "execute_result"
    }
   ],
   "source": [
    "metrics = result.metrics\n",
    "metrics"
   ]
  },
  {
   "cell_type": "markdown",
   "id": "7b18221b",
   "metadata": {},
   "source": [
    "This should output something like:\n",
    "\n",
    "```python\n",
    "OrderedDict([('train-logloss', 0.05463397157248817),\n",
    "             ('train-error', 0.00506329113924051),\n",
    "             ('validation-logloss', 0.06741214815308066),\n",
    "             ('validation-error', 0.01176470588235294)])\n",
    "```\n",
    "\n",
    "We see that the Ray Train logged metrics based on the values we configured in `eval_metric` and `evals`."
   ]
  },
  {
   "cell_type": "markdown",
   "id": "7e15f51a",
   "metadata": {},
   "source": [
    "Ray Train also automatically stored model checkpoints in the `result.checkpoint` directory. We can use `RayTrainReportCallback` to re-create our booster, which will become handy in the next few guides."
   ]
  },
  {
   "cell_type": "code",
   "execution_count": null,
   "id": "87892b1f",
   "metadata": {},
   "outputs": [
    {
     "data": {
      "text/plain": [
       "<xgboost.core.Booster at 0x39aa7b9b0>"
      ]
     },
     "execution_count": null,
     "metadata": {},
     "output_type": "execute_result"
    }
   ],
   "source": [
    "booster = RayTrainReportCallback.get_model(result.checkpoint)\n",
    "booster"
   ]
  },
  {
   "cell_type": "markdown",
   "id": "c2f0523a",
   "metadata": {},
   "source": [
    "# Model registry\n",
    "\n",
    "We'll be creating a model registry in our [Anyscale user storage](https://docs.anyscale.com/configuration/storage/#user-storage) to save our model checkpoints to. We'll be using OSS mlflow but we can easily [set up other experiment trackers](https://docs.ray.io/en/latest/train/user-guides/experiment-tracking.html) with Ray."
   ]
  },
  {
   "cell_type": "code",
   "execution_count": null,
   "id": "cba23e9b",
   "metadata": {},
   "outputs": [
    {
     "name": "stderr",
     "output_type": "stream",
     "text": [
      "2025/04/09 13:06:58 INFO mlflow.tracking.fluent: Experiment with name 'breast_cancer_all_features' does not exist. Creating a new experiment.\n"
     ]
    }
   ],
   "source": [
    "import mlflow\n",
    "from dist_xgboost.constants import experiment_name\n",
    "import shutil\n",
    "from tempfile import TemporaryDirectory\n",
    "from dist_xgboost.constants import (\n",
    "    model_registry,\n",
    "    model_fname,\n",
    "    preprocessor_fname,\n",
    ")\n",
    "\n",
    "# clean up old runs\n",
    "os.path.isdir(model_registry) and shutil.rmtree(model_registry)\n",
    "mlflow.delete_experiment(experiment_name)\n",
    "os.makedirs(model_registry, exist_ok=True)\n",
    "\n",
    "\n",
    "# create a model registry in our user storage\n",
    "mlflow.set_tracking_uri(f\"file:{model_registry}\")\n",
    "\n",
    "# create a new experiment and log metrics and artifacts\n",
    "mlflow.set_experiment(experiment_name)\n",
    "with mlflow.start_run(description=\"xgboost breast cancer classifier on all features\"):\n",
    "    mlflow.log_params(model_config)\n",
    "    mlflow.log_metrics(metrics)\n",
    "\n",
    "    # Selectively log just the preprocessor and model weights\n",
    "    with TemporaryDirectory() as tmp_dir:\n",
    "        shutil.copy(\n",
    "            os.path.join(result.checkpoint.path, model_fname),\n",
    "            os.path.join(tmp_dir, model_fname),\n",
    "        )\n",
    "        shutil.copy(\n",
    "            preprocessor_path,\n",
    "            os.path.join(tmp_dir, preprocessor_fname),\n",
    "        )\n",
    "\n",
    "        mlflow.log_artifacts(tmp_dir)"
   ]
  },
  {
   "cell_type": "markdown",
   "id": "340529d0",
   "metadata": {},
   "source": [
    "We can view our experiment metrics and model artifacts in our model registry. We're using OSS mlflow so we can run the server by pointing to our model registry location:\n",
    "\n",
    "```bash\n",
    "mlflow server -h 0.0.0.0 -p 8080 --backend-store-uri /mnt/user_storage/mlflow/\n",
    "```\n",
    "\n",
    "We can view the dashboard by going to the **Overview tab** up top → **Open Ports**. \n",
    "\n",
    "<img src=\"https://raw.githubusercontent.com/anyscale/e2e-xgboost/refs/heads/main/images/mlflow.png\" width=685>\n",
    "\n",
    "We also have our Ray Dashboard and Train workfload specific dashboards above. \n",
    "\n",
    "<img src=\"https://raw.githubusercontent.com/anyscale/e2e-xgboost/refs/heads/main/images/train_metrics.png\" width=700>\n"
   ]
  },
  {
   "cell_type": "code",
   "execution_count": null,
   "id": "d394cdf4",
   "metadata": {},
   "outputs": [],
   "source": [
    "from dist_xgboost.data import get_best_model_from_registry\n",
    "\n",
    "best_model, artifacts_dir = get_best_model_from_registry()"
   ]
  },
  {
   "cell_type": "markdown",
   "id": "11f54394",
   "metadata": {},
   "source": [
    "And we can easily wrap our training workload as a production grade [Anyscale Job](https://docs.anyscale.com/platform/jobs/) ([API ref](https://docs.anyscale.com/reference/job-api/))\n",
    "\n",
    "**Note**: \n",
    "- we're using a `containerfile` to define our dependencies, but we could easily use a pre-built image as well.\n",
    "- we can specify the compute as a [compute config](https://docs.anyscale.com/configuration/compute-configuration/) or inline in a [job config](https://docs.anyscale.com/reference/job-api#job-cli) file.\n",
    "- when we don't specify compute and when launching from a workspace, this defaults to the compute configuration of the Workspace."
   ]
  },
  {
   "cell_type": "code",
   "execution_count": null,
   "id": "bdb286b7",
   "metadata": {},
   "outputs": [
    {
     "name": "stderr",
     "output_type": "stream",
     "text": [
      "[WARNING] A newer version of the Anyscale CLI is available. Your current version is 0.26.13. The latest version is 0.26.14. To avoid issues accessing Anyscale`s API, upgrade to the latest version by running `pip install --upgrade anyscale`.\n",
      "Output\n",
      "(anyscale +1.3s) Submitting job with config JobConfig(name='train-xboost-breast-cancer-model', image_uri=None, compute_config=None, env_vars=None, py_modules=None, py_executable=None, cloud=None, project=None, ray_version=None, job_queue_config=None).\n",
      "Traceback (most recent call last):\n",
      "  File \"/opt/miniconda3/bin/anyscale\", line 8, in <module>\n",
      "    sys.exit(main())\n",
      "             ^^^^^^\n",
      "  File \"/opt/miniconda3/lib/python3.12/site-packages/anyscale/scripts.py\", line 164, in main\n",
      "    return cli()\n",
      "           ^^^^^\n",
      "  File \"/opt/miniconda3/lib/python3.12/site-packages/click/core.py\", line 1161, in __call__\n",
      "    return self.main(*args, **kwargs)\n",
      "           ^^^^^^^^^^^^^^^^^^^^^^^^^^\n",
      "  File \"/opt/miniconda3/lib/python3.12/site-packages/click/core.py\", line 1082, in main\n",
      "    rv = self.invoke(ctx)\n",
      "         ^^^^^^^^^^^^^^^^\n",
      "  File \"/opt/miniconda3/lib/python3.12/site-packages/click/core.py\", line 1697, in invoke\n",
      "    return _process_result(sub_ctx.command.invoke(sub_ctx))\n",
      "                           ^^^^^^^^^^^^^^^^^^^^^^^^^^^^^^^\n",
      "  File \"/opt/miniconda3/lib/python3.12/site-packages/click/core.py\", line 1697, in invoke\n",
      "    return _process_result(sub_ctx.command.invoke(sub_ctx))\n",
      "                           ^^^^^^^^^^^^^^^^^^^^^^^^^^^^^^^\n",
      "  File \"/opt/miniconda3/lib/python3.12/site-packages/click/core.py\", line 1443, in invoke\n",
      "    return ctx.invoke(self.callback, **ctx.params)\n",
      "           ^^^^^^^^^^^^^^^^^^^^^^^^^^^^^^^^^^^^^^^\n",
      "  File \"/opt/miniconda3/lib/python3.12/site-packages/click/core.py\", line 788, in invoke\n",
      "    return __callback(*args, **kwargs)\n",
      "           ^^^^^^^^^^^^^^^^^^^^^^^^^^^\n",
      "  File \"/opt/miniconda3/lib/python3.12/site-packages/anyscale/commands/job_commands.py\", line 340, in submit\n",
      "    job_id = anyscale.job.submit(config)\n",
      "             ^^^^^^^^^^^^^^^^^^^^^^^^^^^\n",
      "  File \"/opt/miniconda3/lib/python3.12/site-packages/anyscale/_private/sdk/__init__.py\", line 44, in wrapper\n",
      "    return f(*args, **kwargs)\n",
      "           ^^^^^^^^^^^^^^^^^^\n",
      "  File \"/opt/miniconda3/lib/python3.12/site-packages/anyscale/job/commands.py\", line 62, in submit\n",
      "    return _sdk.submit(config)\n",
      "           ^^^^^^^^^^^^^^^^^^^\n",
      "  File \"/opt/miniconda3/lib/python3.12/site-packages/anyscale/job/_private/job_sdk.py\", line 162, in submit\n",
      "    prod_job_config = self.job_config_to_internal_prod_job_conf(\n",
      "                      ^^^^^^^^^^^^^^^^^^^^^^^^^^^^^^^^^^^^^^^^^^\n",
      "  File \"/opt/miniconda3/lib/python3.12/site-packages/anyscale/job/_private/job_sdk.py\", line 99, in job_config_to_internal_prod_job_conf\n",
      "    containerfile=self.get_containerfile_contents(config.containerfile),\n",
      "                  ^^^^^^^^^^^^^^^^^^^^^^^^^^^^^^^^^^^^^^^^^^^^^^^^^^^^^\n",
      "  File \"/opt/miniconda3/lib/python3.12/site-packages/anyscale/_private/workload/workload_sdk.py\", line 284, in get_containerfile_contents\n",
      "    raise FileNotFoundError(\n",
      "FileNotFoundError: Containerfile '/home/ray/default/containerfile' does not exist.\n"
     ]
    },
    {
     "ename": "CalledProcessError",
     "evalue": "Command 'b'# Production batch job\\n# FIXME port all the code to the python dir\\nanyscale job submit --name=train-xboost-breast-cancer-model \\\\\\n  --containerfile=\"/home/ray/default/containerfile\" \\\\\\n  --working-dir=\"/home/ray/default\" \\\\\\n  --exclude=\"\" \\\\\\n  --max-retries=0 \\\\\\n  -- python e2e-xgboost/train.py\\n'' returned non-zero exit status 1.",
     "output_type": "error",
     "traceback": [
      "\u001b[31m---------------------------------------------------------------------------\u001b[39m",
      "\u001b[31mCalledProcessError\u001b[39m                        Traceback (most recent call last)",
      "\u001b[36mCell\u001b[39m\u001b[36m \u001b[39m\u001b[32mIn[19]\u001b[39m\u001b[32m, line 1\u001b[39m\n\u001b[32m----> \u001b[39m\u001b[32m1\u001b[39m \u001b[43mget_ipython\u001b[49m\u001b[43m(\u001b[49m\u001b[43m)\u001b[49m\u001b[43m.\u001b[49m\u001b[43mrun_cell_magic\u001b[49m\u001b[43m(\u001b[49m\u001b[33;43m'\u001b[39;49m\u001b[33;43mbash\u001b[39;49m\u001b[33;43m'\u001b[39;49m\u001b[43m,\u001b[49m\u001b[43m \u001b[49m\u001b[33;43m'\u001b[39;49m\u001b[33;43m'\u001b[39;49m\u001b[43m,\u001b[49m\u001b[43m \u001b[49m\u001b[33;43m'\u001b[39;49m\u001b[33;43m# Production batch job\u001b[39;49m\u001b[38;5;130;43;01m\\n\u001b[39;49;00m\u001b[33;43m# FIXME port all the code to the python dir\u001b[39;49m\u001b[38;5;130;43;01m\\n\u001b[39;49;00m\u001b[33;43manyscale job submit --name=train-xboost-breast-cancer-model \u001b[39;49m\u001b[38;5;130;43;01m\\\\\u001b[39;49;00m\u001b[38;5;130;43;01m\\n\u001b[39;49;00m\u001b[33;43m  --containerfile=\u001b[39;49m\u001b[33;43m\"\u001b[39;49m\u001b[33;43m/home/ray/default/containerfile\u001b[39;49m\u001b[33;43m\"\u001b[39;49m\u001b[33;43m \u001b[39;49m\u001b[38;5;130;43;01m\\\\\u001b[39;49;00m\u001b[38;5;130;43;01m\\n\u001b[39;49;00m\u001b[33;43m  --working-dir=\u001b[39;49m\u001b[33;43m\"\u001b[39;49m\u001b[33;43m/home/ray/default\u001b[39;49m\u001b[33;43m\"\u001b[39;49m\u001b[33;43m \u001b[39;49m\u001b[38;5;130;43;01m\\\\\u001b[39;49;00m\u001b[38;5;130;43;01m\\n\u001b[39;49;00m\u001b[33;43m  --exclude=\u001b[39;49m\u001b[33;43m\"\u001b[39;49m\u001b[33;43m\"\u001b[39;49m\u001b[33;43m \u001b[39;49m\u001b[38;5;130;43;01m\\\\\u001b[39;49;00m\u001b[38;5;130;43;01m\\n\u001b[39;49;00m\u001b[33;43m  --max-retries=0 \u001b[39;49m\u001b[38;5;130;43;01m\\\\\u001b[39;49;00m\u001b[38;5;130;43;01m\\n\u001b[39;49;00m\u001b[33;43m  -- python e2e-xgboost/train.py\u001b[39;49m\u001b[38;5;130;43;01m\\n\u001b[39;49;00m\u001b[33;43m'\u001b[39;49m\u001b[43m)\u001b[49m\n",
      "\u001b[36mFile \u001b[39m\u001b[32m~/new_src/ANYSCALE/new_tutorials/e2e-xgboost-rebase/.venv/lib/python3.12/site-packages/IPython/core/interactiveshell.py:2511\u001b[39m, in \u001b[36mInteractiveShell.run_cell_magic\u001b[39m\u001b[34m(self, magic_name, line, cell)\u001b[39m\n\u001b[32m   2509\u001b[39m \u001b[38;5;28;01mwith\u001b[39;00m \u001b[38;5;28mself\u001b[39m.builtin_trap:\n\u001b[32m   2510\u001b[39m     args = (magic_arg_s, cell)\n\u001b[32m-> \u001b[39m\u001b[32m2511\u001b[39m     result = \u001b[43mfn\u001b[49m\u001b[43m(\u001b[49m\u001b[43m*\u001b[49m\u001b[43margs\u001b[49m\u001b[43m,\u001b[49m\u001b[43m \u001b[49m\u001b[43m*\u001b[49m\u001b[43m*\u001b[49m\u001b[43mkwargs\u001b[49m\u001b[43m)\u001b[49m\n\u001b[32m   2513\u001b[39m \u001b[38;5;66;03m# The code below prevents the output from being displayed\u001b[39;00m\n\u001b[32m   2514\u001b[39m \u001b[38;5;66;03m# when using magics with decorator @output_can_be_silenced\u001b[39;00m\n\u001b[32m   2515\u001b[39m \u001b[38;5;66;03m# when the last Python token in the expression is a ';'.\u001b[39;00m\n\u001b[32m   2516\u001b[39m \u001b[38;5;28;01mif\u001b[39;00m \u001b[38;5;28mgetattr\u001b[39m(fn, magic.MAGIC_OUTPUT_CAN_BE_SILENCED, \u001b[38;5;28;01mFalse\u001b[39;00m):\n",
      "\u001b[36mFile \u001b[39m\u001b[32m~/new_src/ANYSCALE/new_tutorials/e2e-xgboost-rebase/.venv/lib/python3.12/site-packages/IPython/core/magics/script.py:168\u001b[39m, in \u001b[36mScriptMagics._make_script_magic.<locals>.named_script_magic\u001b[39m\u001b[34m(line, cell)\u001b[39m\n\u001b[32m    166\u001b[39m \u001b[38;5;28;01melse\u001b[39;00m:\n\u001b[32m    167\u001b[39m     line = script\n\u001b[32m--> \u001b[39m\u001b[32m168\u001b[39m \u001b[38;5;28;01mreturn\u001b[39;00m \u001b[38;5;28;43mself\u001b[39;49m\u001b[43m.\u001b[49m\u001b[43mshebang\u001b[49m\u001b[43m(\u001b[49m\u001b[43mline\u001b[49m\u001b[43m,\u001b[49m\u001b[43m \u001b[49m\u001b[43mcell\u001b[49m\u001b[43m)\u001b[49m\n",
      "\u001b[36mFile \u001b[39m\u001b[32m~/new_src/ANYSCALE/new_tutorials/e2e-xgboost-rebase/.venv/lib/python3.12/site-packages/IPython/core/magics/script.py:340\u001b[39m, in \u001b[36mScriptMagics.shebang\u001b[39m\u001b[34m(self, line, cell)\u001b[39m\n\u001b[32m    335\u001b[39m \u001b[38;5;28;01mif\u001b[39;00m args.raise_error \u001b[38;5;129;01mand\u001b[39;00m p.returncode != \u001b[32m0\u001b[39m:\n\u001b[32m    336\u001b[39m     \u001b[38;5;66;03m# If we get here and p.returncode is still None, we must have\u001b[39;00m\n\u001b[32m    337\u001b[39m     \u001b[38;5;66;03m# killed it but not yet seen its return code. We don't wait for it,\u001b[39;00m\n\u001b[32m    338\u001b[39m     \u001b[38;5;66;03m# in case it's stuck in uninterruptible sleep. -9 = SIGKILL\u001b[39;00m\n\u001b[32m    339\u001b[39m     rc = p.returncode \u001b[38;5;129;01mor\u001b[39;00m -\u001b[32m9\u001b[39m\n\u001b[32m--> \u001b[39m\u001b[32m340\u001b[39m     \u001b[38;5;28;01mraise\u001b[39;00m CalledProcessError(rc, cell)\n",
      "\u001b[31mCalledProcessError\u001b[39m: Command 'b'# Production batch job\\n# FIXME port all the code to the python dir\\nanyscale job submit --name=train-xboost-breast-cancer-model \\\\\\n  --containerfile=\"/home/ray/default/containerfile\" \\\\\\n  --working-dir=\"/home/ray/default\" \\\\\\n  --exclude=\"\" \\\\\\n  --max-retries=0 \\\\\\n  -- python e2e-xgboost/train.py\\n'' returned non-zero exit status 1."
     ]
    }
   ],
   "source": [
    "%%bash\n",
    "# Production batch job\n",
    "# FIXME port all the code to the python dir\n",
    "# FIXME use relative paths\n",
    "anyscale job submit --name=train-xboost-breast-cancer-model \\\n",
    "  --containerfile=\"/home/ray/default/containerfile\" \\\n",
    "  --working-dir=\"/home/ray/default\" \\\n",
    "  --exclude=\"\" \\\n",
    "  --max-retries=0 \\\n",
    "  -- python e2e-xgboost/train.py"
   ]
  },
  {
   "cell_type": "markdown",
   "id": "bda2a7b0",
   "metadata": {},
   "source": [
    "## How to scale out training?\n",
    "\n",
    "One of the key advantages of using Ray Train is its ability to effortlessly scale your training workloads.\n",
    "By adjusting the [`ScalingConfig`](https://docs.ray.io/en/latest/train/api/doc/ray.train.ScalingConfig.html#ray.train.ScalingConfig),\n",
    "you can optimize resource utilization and reduce training time, making it ideal for large-scale machine learning tasks.\n",
    "\n",
    ":::{note}\n",
    "Ray Train doesn’t modify or otherwise alter the working of the underlying XGBoost or LightGBM distributed training algorithms. Ray only provides orchestration, data ingest and fault tolerance. For more information on GBDT distributed training, refer to [XGBoost documentation](https://xgboost.readthedocs.io/en/stable/) and [LightGBM documentation](https://lightgbm.readthedocs.io/en/latest/).\n",
    ":::\n",
    "\n",
    "### Multi-node CPU Example\n",
    "\n",
    "Setup: 4 nodes with 8 CPUs each.\n",
    "\n",
    "Use-case: To utilize all resources in multi-node training.\n",
    "\n",
    "```python\n",
    "scaling_config = ScalingConfig(\n",
    "    num_workers=4,\n",
    "    resources_per_worker={\"CPU\": 8},\n",
    ")\n",
    "```\n",
    "\n",
    "### Single-node multi-GPU Example\n",
    "\n",
    "Setup: 1 node with 8 CPUs and 4 GPUs.\n",
    "\n",
    "Use-case: If you have a single node with multiple GPUs, you need to use\n",
    "distributed training to leverage all GPUs.\n",
    "\n",
    "```python\n",
    "scaling_config = ScalingConfig(\n",
    "    num_workers=4,\n",
    "    use_gpu=True,\n",
    ")\n",
    "```\n",
    "\n",
    "### Multi-node multi-GPU Example\n",
    "\n",
    "Setup: 4 nodes with 8 CPUs and 4 GPUs each.\n",
    "\n",
    "Use-case: If you have multiple nodes with multiple GPUs, you need to\n",
    "schedule one worker per GPU.\n",
    "\n",
    "```python\n",
    "scaling_config = ScalingConfig(\n",
    "    num_workers=16,\n",
    "    use_gpu=True,\n",
    ")\n",
    "```\n",
    "\n",
    "Note that you just have to adjust the number of workers. Ray handles everything else automatically.\n",
    "\n",
    "::: {warning}\n",
    "Specifying a *shared storage location* (such as cloud storage or NFS) is *optional* for single-node clusters, but it is **required for multi-node clusters**. Using a local path will [raise an error](https://docs.ray.io/en/latest/train/user-guides/persistent-storage.html#multinode-local-storage-warning) during checkpointing for multi-node clusters.\n",
    "\n",
    "```python\n",
    "trainer = XGBoostTrainer(\n",
    "    ..., run_config=ray.train.RunConfig(storage_path=\"s3://...\")\n",
    ")\n",
    "```\n",
    ":::"
   ]
  },
  {
   "cell_type": "markdown",
   "id": "fdab5180",
   "metadata": {},
   "source": [
    "## How many remote actors should you use?\n",
    "\n",
    "This depends on your workload and your cluster setup. Generally there is no inherent benefit of running more than one remote actor per node for CPU-only training. This is because XGBoost can already leverage multiple CPUs with threading.\n",
    "\n",
    "However, in some cases, you should consider some starting more than one actor per node:\n",
    "\n",
    "For **multi GPU training**, each GPU should have a separate remote actor. Thus, if your machine has 24 CPUs and 4 GPUs, you want to start 4 remote actors with 6 CPUs and 1 GPU each\n",
    "\n",
    "In a **heterogeneous cluster**, you might want to find the [greatest common divisor](https://en.wikipedia.org/wiki/Greatest_common_divisor) for the number of CPUs. For example, for a cluster with three nodes of 4, 8, and 12 CPUs, respectively, you should set the number of actors to 6 and the CPUs per actor to 4.\n",
    "\n",
    "## How to use GPUs for training?\n",
    "\n",
    "Ray Train enables multi-GPU training for XGBoost and LightGBM. The core backends automatically leverage NCCL2 for cross-device communication. All you have to do is to start one actor per GPU and set GPU-compatible parameters. For example, XGBoost’s `tree_method` to `gpu_hist`. See XGBoost documentation for more details.\n",
    "\n",
    "For instance, if you have 2 machines with 4 GPUs each, you want to start 8 workers, and set `use_gpu=True`. There is usually no benefit in allocating less (for example, 0.5) or more than one GPU per actor.\n",
    "\n",
    "You should divide the CPUs evenly across actors per machine, so if your machines have 16 CPUs in addition to the 4 GPUs, each actor should have 4 CPUs to use.\n",
    "\n",
    "```python\n",
    "trainer = XGBoostTrainer(\n",
    "    scaling_config=ScalingConfig(\n",
    "        # Number of workers to use for data parallelism.\n",
    "        num_workers=2,\n",
    "        # Whether to use GPU acceleration.\n",
    "        use_gpu=True,\n",
    "    ),\n",
    "    params={\n",
    "        # XGBoost specific params\n",
    "        \"tree_method\": \"gpu_hist\",\n",
    "        \"eval_metric\": [\"logloss\", \"error\"],\n",
    "    },\n",
    "    ...\n",
    ")\n",
    "```\n"
   ]
  },
  {
   "cell_type": "markdown",
   "id": "998a031e",
   "metadata": {},
   "source": [
    "## How to optimize XGBoost memory usage?\n",
    "\n",
    "XGBoost uses a compute-optimized data structure called `DMatrix` to store training data.\n",
    "However, converting a dataset to a `DMatrix` involves storing a complete copy of the data\n",
    "as well as intermediate conversions.\n",
    "On a 64-bit system the format is 64-bit floats. Depending on the system and original dataset dtype, \n",
    "this matrix can thus occupy more memory than the original dataset.\n",
    "\n",
    "The **peak memory usage** for CPU-based training is at least 3x the dataset size, assuming dtype `float32` on a 64-bit system, plus about **400,000 KiB** for other resources, like operating system requirements and storing of intermediate results.\n",
    "\n",
    "### Example\n",
    "\n",
    "- Machine type: AWS m5.xlarge (4 vCPUs, 16 GiB RAM)\n",
    "- Usable RAM: ~15,350,000 KiB\n",
    "- Dataset: 1,250,000 rows with 1024 features, dtype float32. Total size: 5,000,000 KiB\n",
    "- XGBoost DMatrix size: ~10,000,000 KiB\n",
    "\n",
    "This dataset fits exactly on this node for training.\n",
    "\n",
    "Note that the DMatrix size might be lower on a 32 bit system.\n",
    "\n",
    "### GPUs\n",
    "\n",
    "Generally, the same memory requirements exist for GPU-based training. Additionally, the GPU must have enough memory to hold the dataset.\n",
    "\n",
    "In the preceding example, the GPU must have at least 10,000,000 KiB (about 9.6 GiB) memory. However, empirical data shows that using a `DeviceQuantileDMatrix` seems to result in more peak GPU memory usage, possibly for intermediate storage when loading data (about 10%).\n",
    "\n",
    "### Best practices\n",
    "\n",
    "In order to reduce peak memory usage, consider the following suggestions:\n",
    "\n",
    "- Store data as `float32` or less. You often don’t need more precision is often, and keeping data in a smaller format helps reduce peak memory usage for initial data loading.\n",
    "- Pass the `dtype` when loading data from CSV. Otherwise, floating point values are loaded as `np.float64` per default, increasing peak memory usage by 33%."
   ]
  },
  {
   "cell_type": "markdown",
   "id": "3f8b12f3",
   "metadata": {},
   "source": []
  }
 ],
 "metadata": {
  "kernelspec": {
   "display_name": ".venv",
   "language": "python",
   "name": "python3"
  },
  "language_info": {
   "codemirror_mode": {
    "name": "ipython",
    "version": 3
   },
   "file_extension": ".py",
   "mimetype": "text/x-python",
   "name": "python",
   "nbconvert_exporter": "python",
   "pygments_lexer": "ipython3",
   "version": "3.12.9"
  }
 },
 "nbformat": 4,
 "nbformat_minor": 5
}
